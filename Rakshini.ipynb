{
 "cells": [
  {
   "cell_type": "code",
   "execution_count": 11,
   "id": "12c80b8f-43bd-4d8f-97b2-bdf7e2ea3ce3",
   "metadata": {},
   "outputs": [
    {
     "name": "stdout",
     "output_type": "stream",
     "text": [
      "Available locations: BusStop, Cafe, Cinema, FireStation, GroceryStore, Home, Hospital, Library, Mall, Office, Park, Pharmacy, PoliceStation, School, Temple\n"
     ]
    },
    {
     "name": "stdin",
     "output_type": "stream",
     "text": [
      "Enter source location:  office\n",
      "Enter destination location:  home\n"
     ]
    },
    {
     "name": "stdout",
     "output_type": "stream",
     "text": [
      "\n",
      "Safest Path: Office → Hospital → Park → GroceryStore → Home\n",
      "Total Danger Score: 11\n"
     ]
    }
   ],
   "source": [
    "import csv\n",
    "import heapq\n",
    "from collections import defaultdict\n",
    "\n",
    "# Load the graph from CSV\n",
    "def load_graph_from_csv(filename):\n",
    "    graph = defaultdict(list)\n",
    "    danger_scores = {}\n",
    "\n",
    "    with open(filename, 'r') as file:\n",
    "        reader = csv.DictReader(file)\n",
    "        for row in reader:\n",
    "            src = row['Source']\n",
    "            dest = row['Destination']\n",
    "            score = int(row['DangerScore'])\n",
    "\n",
    "            graph[src].append(dest)\n",
    "            graph[dest].append(src)\n",
    "\n",
    "            danger_scores[(src, dest)] = score\n",
    "            danger_scores[(dest, src)] = score\n",
    "\n",
    "    return graph, danger_scores\n",
    "\n",
    "# Modified Dijkstra to find safest path\n",
    "def find_safest_path(graph, danger_scores, start, end):\n",
    "    heap = [(0, start, [])]\n",
    "    visited = set()\n",
    "\n",
    "    while heap:\n",
    "        total_danger, current, path = heapq.heappop(heap)\n",
    "\n",
    "        if current in visited:\n",
    "            continue\n",
    "        visited.add(current)\n",
    "        path = path + [current]\n",
    "\n",
    "        if current == end:\n",
    "            return path, total_danger\n",
    "\n",
    "        for neighbor in graph[current]:\n",
    "            if neighbor not in visited:\n",
    "                edge_score = danger_scores.get((current, neighbor), float('inf'))\n",
    "                heapq.heappush(heap, (total_danger + edge_score, neighbor, path))\n",
    "\n",
    "    return None, float('inf')\n",
    "\n",
    "# Main program\n",
    "if __name__ == \"__main__\":\n",
    "    graph_file = 'graph_data.csv'\n",
    "    graph, danger_scores = load_graph_from_csv(graph_file)\n",
    "\n",
    "    print(\"Available locations:\", \", \".join(sorted(graph.keys())))\n",
    "    source = input(\"Enter source location: \").strip().title()\n",
    "    destination = input(\"Enter destination location: \").strip().title()\n",
    "\n",
    "\n",
    "    if source not in graph or destination not in graph:\n",
    "        print(\"Invalid source or destination.\")\n",
    "    else:\n",
    "        path, danger = find_safest_path(graph, danger_scores, source, destination)\n",
    "        if path:\n",
    "            print(\"\\nSafest Path:\", \" → \".join(path))\n",
    "            print(\"Total Danger Score:\", danger)\n",
    "        else:\n",
    "            print(\"No path found between\", source, \"and\", destination)\n"
   ]
  },
  {
   "cell_type": "code",
   "execution_count": null,
   "id": "2539a462-aabb-4f0d-842f-a26e08b33eac",
   "metadata": {},
   "outputs": [],
   "source": []
  }
 ],
 "metadata": {
  "kernelspec": {
   "display_name": "Python 3 (ipykernel)",
   "language": "python",
   "name": "python3"
  },
  "language_info": {
   "codemirror_mode": {
    "name": "ipython",
    "version": 3
   },
   "file_extension": ".py",
   "mimetype": "text/x-python",
   "name": "python",
   "nbconvert_exporter": "python",
   "pygments_lexer": "ipython3",
   "version": "3.12.7"
  }
 },
 "nbformat": 4,
 "nbformat_minor": 5
}
